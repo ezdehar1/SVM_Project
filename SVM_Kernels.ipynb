{
  "nbformat": 4,
  "nbformat_minor": 0,
  "metadata": {
    "colab": {
      "provenance": [],
      "authorship_tag": "ABX9TyPdMY3gRHwZuRGHFDHPE430",
      "include_colab_link": true
    },
    "kernelspec": {
      "name": "python3",
      "display_name": "Python 3"
    },
    "language_info": {
      "name": "python"
    }
  },
  "cells": [
    {
      "cell_type": "markdown",
      "metadata": {
        "id": "view-in-github",
        "colab_type": "text"
      },
      "source": [
        "<a href=\"https://colab.research.google.com/github/ezdehar1/SVM_Project/blob/main/SVM_Kernels.ipynb\" target=\"_parent\"><img src=\"https://colab.research.google.com/assets/colab-badge.svg\" alt=\"Open In Colab\"/></a>"
      ]
    },
    {
      "cell_type": "code",
      "execution_count": null,
      "metadata": {
        "id": "VCrksXowp7M4"
      },
      "outputs": [],
      "source": [
        "import pandas as pd\n",
        "from sklearn.metrics import f1_score\n",
        "import scipy\n",
        "import os\n",
        "from sklearn.model_selection import GridSearchCV\n",
        "from skimage.transform import resize\n",
        "from skimage.io import imread\n",
        "import numpy as np\n",
        "from sklearn import svm\n",
        "import cv2\n",
        "from sklearn import metrics\n",
        "from sklearn.neighbors import KNeighborsClassifier\n",
        "from sklearn.preprocessing import LabelEncoder\n",
        "from sklearn.model_selection import train_test_split\n",
        "from sklearn.metrics import classification_report\n",
        "from sklearn.metrics import confusion_matrix\n",
        "from sklearn.metrics import accuracy_score\n",
        "from libsvm.svmutil import *\n",
        "from libsvm.svm import *"
      ]
    },
    {
      "cell_type": "code",
      "source": [
        "#Extract Data As RGB color histogram\n",
        "\n",
        "def RGBExtract():\n",
        " histo2 = []\n",
        " df = pd.DataFrame()\n",
        " Categories = ['airplane', 'automobile', 'bird', 'cat', 'deer', 'dog']\n",
        " flat_data_arr = []  # input array\n",
        " target_arr = []  # output array\n",
        " datadir = '/content/CIFAR-10-images/My_data/train'\n",
        "# path which contains all the categories of images\n",
        " for c in Categories:\n",
        "    path = os.path.join(datadir, c)\n",
        "    for img in os.listdir(path):\n",
        "        target_arr.append(Categories.index(c))\n",
        "        histo2 = []\n",
        "        img = cv2.imread((os.path.join(path, img)))\n",
        "        for i, col in enumerate(['b', 'g', 'r']):\n",
        "            hist = cv2.calcHist([img], [i], None, [16], [0, 256])\n",
        "            histo2.append(hist.flatten())\n",
        "\n",
        "        histo = np.array(histo2)\n",
        "        histo = histo.flatten()\n",
        "        histo = histo.reshape(1, 48)\n",
        "        df = df.append(pd.DataFrame(histo))\n",
        "\n",
        " target = np.array(target_arr)\n",
        " df['Target'] = target\n",
        " return df\n"
      ],
      "metadata": {
        "id": "MHpLm8ZzqOJN"
      },
      "execution_count": null,
      "outputs": []
    },
    {
      "cell_type": "code",
      "source": [
        "#Load data from Image folders and extract feature as HSV features --- The final used representation\n",
        "def load_Data(p):\n",
        "    histo2 = []\n",
        "    df = pd.DataFrame()\n",
        "    Categories = ['airplane', 'automobile', 'bird', 'cat', 'deer', 'dog']\n",
        "    flat_data_arr = [] \n",
        "    target_arr = []  \n",
        "    datadir = p   \n",
        "    for c in Categories:\n",
        "        path = os.path.join(datadir, c)\n",
        "        print(Categories.index(c))\n",
        "        for img in os.listdir(path):\n",
        "            target_arr.append(Categories.index(c))\n",
        "            histo2 = []\n",
        "            img = cv2.imread((os.path.join(path, img)))\n",
        "            img2 = cv2.cvtColor(img, cv2.COLOR_BGR2HSV)\n",
        "            for i in [0, 1, 2]:\n",
        "                hist = cv2.calcHist([img2], [i], None, [16], [0, 256])\n",
        "                histo2.append(hist.flatten())\n",
        "\n",
        "            histo = np.array(histo2)\n",
        "            histo = histo.flatten()\n",
        "            histo = histo.reshape(1, 48)\n",
        "            df = df.append(pd.DataFrame(histo))\n",
        "\n",
        "    target = np.array(target_arr)\n",
        "    X = df.to_numpy()\n",
        "    Y = target\n",
        "    df.insert(0, 'Target', target)\n",
        "    np.savetxt(\"Y_test\", Y, fmt='%d')\n",
        "    return Y,X\n"
      ],
      "metadata": {
        "id": "_-uTEeqRqUIm"
      },
      "execution_count": null,
      "outputs": []
    },
    {
      "cell_type": "code",
      "source": [
        "# This functio convert data to SVM format. {target index:attribute-value}\n",
        "def convert(Y,X,filename):\n",
        " with open(filename, 'w') as f:\n",
        "    for i in range(Y.size):\n",
        "        f.write(str(Y[i])+\" \")\n",
        "        print(Y[i])\n",
        "        for j in range(48):\n",
        "            f.write(str(j+1)+\":\")\n",
        "            f.write(str(round(X[i, j],6))+\" \")\n",
        "        f.write(\"\\n\")"
      ],
      "metadata": {
        "id": "UnH0WLlQqYFG"
      },
      "execution_count": null,
      "outputs": []
    },
    {
      "cell_type": "code",
      "source": [
        "if __name__ == '__main__':\n",
        "    #----- Step 1: Initialize the paths of the dataset (Change the  Path to your own)\n",
        "     train_path='/Users/ezdeharjawabreh/Downloads/CIFAR-10-images-master-2/train'\n",
        "     test_path='/Users/ezdeharjawabreh/Downloads/CIFAR-10-images-master-2/test'\n",
        "\n",
        "     #----- Step 2: Load Train and Test Data, and Extract Feature\n",
        "     Y, X = load_Data(train_path)\n",
        "     Y_test, X_test = load_Data(test_path)    \n",
        "\n",
        "   "
      ],
      "metadata": {
        "id": "7roTB4u7r3-e"
      },
      "execution_count": null,
      "outputs": []
    },
    {
      "cell_type": "code",
      "source": [
        "  #----- Step 2: Load Train and Test Data, and Extract Feature\n",
        "     Y, X = load_Data(train_path)\n",
        "     Y_test, X_test = load_Data(test_path)"
      ],
      "metadata": {
        "id": "61jgYb61xYhs"
      },
      "execution_count": null,
      "outputs": []
    },
    {
      "cell_type": "code",
      "source": [
        "  #----- Step 3:  Convert Data to SVM Format\n",
        "     convert(Y, X,\"cf_tr\")\n",
        "     convert(Y_test,X_test,\"cf_te\")"
      ],
      "metadata": {
        "id": "JlXyzB2Oxcz4"
      },
      "execution_count": null,
      "outputs": []
    },
    {
      "cell_type": "code",
      "source": [
        "  #----- Step 4: Scale the data using the following commands from Libsvm  (Note: These commands were executed on the terminal)\n",
        "    #./ svm - scale - l 0 cf_tr > cf_tr.scale\n",
        "    #./ svm - scale - l 0 cf_te > cf_te.scale"
      ],
      "metadata": {
        "id": "O60Wp8uxxh43"
      },
      "execution_count": null,
      "outputs": []
    },
    {
      "cell_type": "code",
      "source": [
        " #---- Step 5: Use Grid Search to select best parameters, for example the following command serach\n",
        " #for polynomail kerenl degree 2 in range C=[] and g=[]\n",
        "    #python grid.py - log2c - 7, 7, 1 - log2g - 5, 2, 1 - t 1 - d 2 cf.combined"
      ],
      "metadata": {
        "id": "T_eaAm7txqI_"
      },
      "execution_count": null,
      "outputs": []
    },
    {
      "cell_type": "code",
      "source": [
        " # ------Step 6: use the following commands to train and test the models, they repeated for each kernel with optimal parameters metntioned in the report\n",
        "    #./ svm - train - c 4 - g 2 - t 1 - d 2 tools / cf_tr.scale\n",
        "    #./ svm - predict tools / cf_te.scale cf_tr.scale.model cf.predictedPoly\n"
      ],
      "metadata": {
        "id": "QE9KW0n0xsdw"
      },
      "execution_count": null,
      "outputs": []
    }
  ]
}